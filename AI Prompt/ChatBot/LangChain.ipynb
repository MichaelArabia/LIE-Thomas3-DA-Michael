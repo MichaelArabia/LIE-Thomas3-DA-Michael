{
 "cells": [
  {
   "cell_type": "code",
   "execution_count": 1,
   "metadata": {},
   "outputs": [
    {
     "data": {
      "text/plain": [
       "True"
      ]
     },
     "execution_count": 1,
     "metadata": {},
     "output_type": "execute_result"
    }
   ],
   "source": [
    "from dotenv import load_dotenv\n",
    "from langchain import HuggingFaceHub, LLMChain\n",
    "from langchain.prompts import PromptTemplate\n",
    "\n",
    "load_dotenv()\n"
   ]
  },
  {
   "cell_type": "code",
   "execution_count": 2,
   "metadata": {},
   "outputs": [
    {
     "name": "stderr",
     "output_type": "stream",
     "text": [
      "c:\\Users\\Admin\\miniconda3\\envs\\my-env\\Lib\\site-packages\\huggingface_hub\\utils\\_deprecation.py:131: FutureWarning: 'InferenceApi' (from 'huggingface_hub.inference_api') is deprecated and will be removed from version '1.0'. `InferenceApi` client is deprecated in favor of the more feature-complete `InferenceClient`. Check out this guide to learn how to convert your script to use it: https://huggingface.co/docs/huggingface_hub/guides/inference#legacy-inferenceapi-client.\n",
      "  warnings.warn(warning_message, FutureWarning)\n",
      "c:\\Users\\Admin\\miniconda3\\envs\\my-env\\Lib\\site-packages\\langchain_core\\_api\\deprecation.py:117: LangChainDeprecationWarning: The function `run` was deprecated in LangChain 0.1.0 and will be removed in 0.2.0. Use invoke instead.\n",
      "  warn_deprecated(\n"
     ]
    },
    {
     "name": "stdout",
     "output_type": "stream",
     "text": [
      "\n",
      "\n",
      "\u001b[1m> Entering new LLMChain chain...\u001b[0m\n",
      "Prompt after formatting:\n",
      "\u001b[32;1m\u001b[1;3mRoger, you asked: 'Who is the best archer ?'. Here's my response:\u001b[0m\n",
      "\n",
      "\u001b[1m> Finished chain.\u001b[0m\n",
      "Bot: \n",
      "\n",
      "There have been many skilled archers throughout history, making it difficult to determine who the best one is. However, I can mention a few notable archers who have made significant contributions to the art of archery.\n",
      "\n",
      "One of the most famous archers in history is William Tell, a legendary figure from Swiss folklore who was said to have shot an apple off his son's head with a crossbow. Although the story is likely apocryphal, it has\n"
     ]
    }
   ],
   "source": [
    "# Define a more dynamic prompt template\n",
    "prompt = PromptTemplate(\n",
    "    input_variables=[\"user\", \"question\"],\n",
    "    template=\"{user}, you asked: '{question}'. Here's my response:\"\n",
    ")\n",
    "\n",
    "hub_llm = HuggingFaceHub(repo_id=\"mistralai/Mixtral-8x7B-Instruct-v0.1\",\n",
    "                         model_kwargs={\"temperature\": 0.7, \"max_length\": 250})\n",
    "\n",
    "# Initialize conversation history\n",
    "conversation_history = []\n",
    "\n",
    "# Define a function to handle multi-turn conversations\n",
    "def chatbot_response(user_name, user_input):\n",
    "    inputs = {\n",
    "        \"user\": user_name,\n",
    "        \"question\": user_input\n",
    "    }\n",
    "    response = hub_chain.run(**inputs)\n",
    "    conversation_history.append(f\"User: {user_name}\")\n",
    "    conversation_history.append(f\"Question: {user_input}\")\n",
    "    conversation_history.append(f\"Answer: {response}\")\n",
    "    return response\n",
    "\n",
    "\n",
    "# Create the langchain instance\n",
    "hub_chain = LLMChain(prompt=prompt, llm=hub_llm, verbose=True)\n",
    "\n",
    "user_name = None\n",
    "\n",
    "# Handle multi-turn conversations by saving and loading conversation history\n",
    "while True:\n",
    "    try:\n",
    "        # Take user inputs interactively\n",
    "        if user_name is None:\n",
    "            user_name = input(\"Enter your name: \")\n",
    "        user_question = input(f\"{user_name}, what is your question? \")\n",
    "        if user_question.lower() == 'exit':\n",
    "            break\n",
    "        \n",
    "        # Get bot response and print\n",
    "        response = chatbot_response(user_name, user_question)\n",
    "        print(\"Bot:\", response)\n",
    "\n",
    "        # Save conversation history\n",
    "        with open(\"conversation_history.txt\", \"w\") as file:\n",
    "            file.write(\"\\n\".join(conversation_history))\n",
    "\n",
    "        # Load conversation history without newline characters\n",
    "        with open(\"conversation_history.txt\", \"r\") as file:\n",
    "            conversation_history = file.read().splitlines()\n",
    "\n",
    "    except Exception as e:\n",
    "        print(\"Error:\", str(e))"
   ]
  },
  {
   "cell_type": "code",
   "execution_count": 3,
   "metadata": {},
   "outputs": [],
   "source": [
    "# First version of the chatbot\n",
    "\n",
    "# hub_llm = HuggingFaceHub(repo_id=\"gpt2-xl\",\n",
    "#                          model_kwargs={\"temperature\":0.7, \"max_length\":250})\n",
    "\n",
    "# prompt = PromptTemplate(\n",
    "#     input_variables=[\"question\"],\n",
    "#     template=\"you asked : {question} . Here's my answer : \"\n",
    "# )\n",
    "\n",
    "# hub_chain = LLMChain(prompt=prompt, llm=hub_llm, verbose=True)\n",
    "# print(hub_chain.run(\"What is the meaning of life?\"))"
   ]
  }
 ],
 "metadata": {
  "kernelspec": {
   "display_name": "my-env",
   "language": "python",
   "name": "python3"
  },
  "language_info": {
   "codemirror_mode": {
    "name": "ipython",
    "version": 3
   },
   "file_extension": ".py",
   "mimetype": "text/x-python",
   "name": "python",
   "nbconvert_exporter": "python",
   "pygments_lexer": "ipython3",
   "version": "3.11.5"
  }
 },
 "nbformat": 4,
 "nbformat_minor": 2
}
