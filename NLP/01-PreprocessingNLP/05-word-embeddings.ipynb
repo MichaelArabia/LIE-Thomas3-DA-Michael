{
 "cells": [
  {
   "cell_type": "markdown",
   "metadata": {},
   "source": [
    "# Embedding\n",
    "\n",
    "## Why Embedding?\n",
    "As we know, machines can't handle text, it can only handle numbers. But how to convert a word to numbers?\n",
    "\n",
    "The most naive approach would be to take a list of all the words in your text and attribute a number to all of them. It will work but you can imagine that some problems will appear:\n",
    "* How do you handle unknown words? \n",
    "* If your text contains `doctor`, `nurse`, and `candy`. `doctor` and `nurse` have a strong similarity but `candy` doesn't. How can we make the machine understand that? With our naive technique, `doctor` could have the number `5` associated to it and nurse the number `98767`.\n",
    "\n",
    "Of course, a lot of people already spent some time with those problems. the solution that came out of it is \"Embedding\". \n",
    "\n",
    "## What is embeddings?\n",
    "\n",
    "An embedding is a **VECTOR** which represents a word or a document.\n",
    "\n",
    "A vector will be attributed to each token. Each vector will contain multiple dimensions (usually tens or hundreds of dimensions).\n",
    "\n",
    "```\n",
    "[...] associate with each word in the vocabulary a distributed word feature vector [...] The feature vector represents different aspects of the word: each word is associated with a point in a vector space. The number of features [...] is much smaller than the size of the vocabulary.\n",
    "```\n",
    "- [A Neural Probabilistic Language Model](https://www.jmlr.org/papers/volume3/bengio03a/bengio03a.pdf), 2003.\n",
    "\n",
    "Long story short, embeddings convert words into vectors in a way that allows the machine to understand the similarity betweens them.\n",
    "\n",
    "Each embedding library has it's own way of classifying words, it will regroup words into big categories. Each word will get a score for each category.\n",
    "\n",
    "To take a simple example the word `mother` could be classified like that:\n",
    "\n",
    "|        | female | family | human | animal|\n",
    "|--------|--------|---------|-------|-------|\n",
    "| mother | 0.9    | 0.9.    | 0.7   | 0.1   |\n",
    "\n",
    "**Explanations:** Mother has a strong similarity with female, family and human but it has a low similarity with animal.\n",
    "\n",
    "**Disclaimer:** Those numbers and categories are totally arbitrary and are only here to show an example.\n",
    "\n",
    "Here is another example with more complete datas:\n",
    "\n",
    "![embedding](https://miro.medium.com/max/2598/1*sAJdxEsDjsPMioHyzlN3_A.png)\n",
    "\n",
    "## Should I do it by hand?\n",
    "\n",
    "You could, but if some people already did the job for you and spent a lot of time to optimize it, why not use it?\n",
    "\n",
    "## What to use?\n",
    "\n",
    "There are a lot of libraries out there for embeddings. Which one is the best? Once again, *it depends*. The results will change depending on the text you are using, the information you want to extract, the model you use,...\n",
    "\n",
    "Choosing the \"best\" embedding model will be part of the hyper-optimization that you can do at the end of a project.\n",
    "\n",
    "If you want understand embeddings more in depth, [follow this link](http://jalammar.github.io/illustrated-word2vec/)\n",
    "\n",
    "Here are some of the best libraries of the moment:\n",
    "\n",
    "* [Flair](https://github.com/flairNLP/flair) (University of Berlin)\n",
    "* [fasttext](https://fasttext.cc/) (Facebook)\n",
    "* [GloVe](https://github.com/stanfordnlp/GloVe) (Stanford)\n",
    "\n",
    "And the oldest way doing it (but still good):\n",
    "* [Word2Vec](https://www.tensorflow.org/tutorials/text/word2vec)"
   ]
  },
  {
   "cell_type": "markdown",
   "metadata": {},
   "source": [
    "## Practice time!\n",
    "\n",
    "Enough reading, let's practice a bit. Can you use SpaCy to embed this sentence?\n",
    "Read the [spacy embedding documentation](https://spacy.io/usage/vectors-similarity)"
   ]
  },
  {
   "cell_type": "code",
   "execution_count": 4,
   "metadata": {},
   "outputs": [
    {
     "name": "stdout",
     "output_type": "stream",
     "text": [
      "I True 112.27491 False\n",
      "love True 58.563564 False\n",
      "learning True 52.643723 False\n"
     ]
    }
   ],
   "source": [
    "sentence = \"I love learning\"\n",
    "\n",
    "# Embed `sentence` with SpaCy\n",
    "\n",
    "import spacy\n",
    "\n",
    "nlp = spacy.load(\"en_core_web_lg\")\n",
    "tokens = nlp(sentence)\n",
    "\n",
    "for token in tokens:\n",
    "    print(token.text, token.has_vector, token.vector_norm, token.is_oov)"
   ]
  },
  {
   "cell_type": "markdown",
   "metadata": {},
   "source": [
    "What is the shape of each word's vector?"
   ]
  },
  {
   "cell_type": "code",
   "execution_count": 5,
   "metadata": {},
   "outputs": [
    {
     "name": "stdout",
     "output_type": "stream",
     "text": [
      "X\n",
      "xxxx\n",
      "xxxx\n"
     ]
    }
   ],
   "source": [
    "nlp = spacy.load(\"en_core_web_sm\")\n",
    "doc = nlp(sentence)\n",
    "\n",
    "for token in doc:\n",
    "    print(token.shape_)"
   ]
  },
  {
   "cell_type": "markdown",
   "metadata": {},
   "source": [
    "Try with Flair and Glove now (You will find how to do [here](https://github.com/flairNLP/flair/blob/master/resources/docs/TUTORIAL_3_WORD_EMBEDDING.md))"
   ]
  },
  {
   "cell_type": "code",
   "execution_count": 6,
   "metadata": {},
   "outputs": [],
   "source": [
    "sentence = \"I love learning\"\n",
    "\n",
    "# Embed with Flair"
   ]
  },
  {
   "cell_type": "code",
   "execution_count": 7,
   "metadata": {},
   "outputs": [
    {
     "ename": "ModuleNotFoundError",
     "evalue": "No module named 'flair'",
     "output_type": "error",
     "traceback": [
      "\u001b[1;31m---------------------------------------------------------------------------\u001b[0m",
      "\u001b[1;31mModuleNotFoundError\u001b[0m                       Traceback (most recent call last)",
      "\u001b[1;32mc:\\Users\\Michael\\desktop\\becode\\LIE-Thomas3-DA-Michael\\NLP\\01-PreprocessingNLP\\05-word-embeddings.ipynb Cell 8\u001b[0m line \u001b[0;36m1\n\u001b[1;32m----> <a href='vscode-notebook-cell:/c%3A/Users/Michael/desktop/becode/LIE-Thomas3-DA-Michael/NLP/01-PreprocessingNLP/05-word-embeddings.ipynb#X31sZmlsZQ%3D%3D?line=0'>1</a>\u001b[0m \u001b[39mfrom\u001b[39;00m \u001b[39mflair\u001b[39;00m\u001b[39m.\u001b[39;00m\u001b[39membeddings\u001b[39;00m \u001b[39mimport\u001b[39;00m WordEmbeddings\n\u001b[0;32m      <a href='vscode-notebook-cell:/c%3A/Users/Michael/desktop/becode/LIE-Thomas3-DA-Michael/NLP/01-PreprocessingNLP/05-word-embeddings.ipynb#X31sZmlsZQ%3D%3D?line=1'>2</a>\u001b[0m \u001b[39mfrom\u001b[39;00m \u001b[39mflair\u001b[39;00m\u001b[39m.\u001b[39;00m\u001b[39mdata\u001b[39;00m \u001b[39mimport\u001b[39;00m Sentence\n\u001b[0;32m      <a href='vscode-notebook-cell:/c%3A/Users/Michael/desktop/becode/LIE-Thomas3-DA-Michael/NLP/01-PreprocessingNLP/05-word-embeddings.ipynb#X31sZmlsZQ%3D%3D?line=3'>4</a>\u001b[0m sentences \u001b[39m=\u001b[39m \u001b[39m\"\u001b[39m\u001b[39mI love learning\u001b[39m\u001b[39m\"\u001b[39m\n",
      "\u001b[1;31mModuleNotFoundError\u001b[0m: No module named 'flair'"
     ]
    }
   ],
   "source": [
    "from flair.embeddings import WordEmbeddings\n",
    "from flair.data import Sentence\n",
    "\n",
    "sentences = \"I love learning\"\n",
    "\n",
    "# Embed with Glove\n",
    "\n",
    "glove_embedding = WordEmbeddings('glove')\n",
    "\n",
    "sentence = Sentence(sentences)\n",
    "glove_embedding.Embed(sentence)\n",
    "\n",
    "for token in sentence:\n",
    "    print(token)\n",
    "    print(token.embedding)"
   ]
  },
  {
   "cell_type": "markdown",
   "metadata": {},
   "source": [
    "What is the shape of each word's vector?"
   ]
  },
  {
   "cell_type": "code",
   "execution_count": null,
   "metadata": {},
   "outputs": [],
   "source": []
  },
  {
   "cell_type": "markdown",
   "metadata": {},
   "source": [
    "Your text is now embedded, your model will be able to understand it, yeah!\n",
    "\n",
    "## Maths on text\n",
    "\n",
    "Since the words are embedded into vectors we can now apply mathematical methods on them.\n",
    "\n",
    "### Average vector\n",
    "\n",
    "For example we could build the average vector for a text by using NumPy! This is a straightforward way to build one single representation for a text."
   ]
  },
  {
   "cell_type": "code",
   "execution_count": 13,
   "metadata": {},
   "outputs": [
    {
     "name": "stdout",
     "output_type": "stream",
     "text": [
      "[-2.6708798   1.6986026  -3.112035    0.30178854  1.8477237   0.4918523\n",
      "  0.935577    5.0553217  -0.110959   -0.07253086  6.430199    1.7227676\n",
      " -2.9758966   0.15091753  1.2870585   0.3030416   1.269147   -2.8379974\n",
      " -3.6677663  -2.381777    2.5097368   0.8158506  -2.5463617   0.50406384\n",
      " -2.7330196  -3.1018727  -2.900443    0.2613154  -2.7666197   2.102876\n",
      "  2.3585725   0.28079307 -2.232476   -1.0053463  -1.1748816  -2.8165097\n",
      " -1.466987   -0.11169621  4.023869    1.7238762  -1.3218799   1.6759255\n",
      "  1.6676936   0.6981524  -1.0407507   2.519857    1.2329398  -1.9295609\n",
      "  0.13638082  1.0135955  -0.15897457  1.0134962  -1.2032954  -6.4290943\n",
      " -2.0957823   1.6486276  -0.6225123   0.60625386  1.658653   -1.121377\n",
      " -0.6031664   1.1491431  -1.2452954  -1.7424655   3.0209198   1.9152999\n",
      " -1.1821359  -2.8171535   0.8385293   4.4653034  -0.5244125   1.028223\n",
      " -0.5548496   1.0502114  -0.72571003  3.518551   -2.6383746   1.816743\n",
      " -5.6293845  -1.4865258  -4.9713006   0.8221501   2.891345   -0.06583855\n",
      "  3.4345639  -1.4345216  -1.2320677  -1.3024839   2.6428728  -1.5561924\n",
      " -2.2460077  -1.3925602   2.995438   -4.0780015   0.2551456  -0.38304693\n",
      "  0.1707654  -1.4278948  -0.15802468  0.6966962   1.8163992   0.91453373\n",
      "  2.3065546   1.1993676  -2.1144586   4.664338   -2.125889   -2.0861862\n",
      " -1.876264   -3.0839586   0.01927455  0.94907993 -0.41615978  0.3717677\n",
      "  1.120246    0.00977121 -4.05974    -1.2853945   1.5906047  -1.2118677\n",
      " -1.583538   -2.8730116  -1.4898216   0.89364153 -0.8601885  -3.9527287\n",
      " -0.13220999 -1.5302054   1.6381462  -0.26981843 -1.3507907  -0.2470917\n",
      "  2.9049685  -1.971946   -0.38586375  0.7890308  -3.689888    0.76541334\n",
      "  3.485031   -2.0453043  -1.5767161  -0.29716888  2.1252692   0.7109753\n",
      " -0.7045961   0.5239815  -1.0541654  -1.5633144   1.3656808   2.4480839\n",
      " -1.5472462   3.0076487   0.03456145  0.8401724  -0.41735843 -0.9628085\n",
      "  4.632118    1.1782715  -2.6876085  -1.338804   -3.5437472  -1.3123047\n",
      " -0.15315925  2.1335006  -3.2545123  -0.9679231  -4.220006    0.05398077\n",
      "  0.7292047   0.92520905  1.9534999   0.8431454   0.45838687  2.3818724\n",
      "  4.0441813   0.25312707 -1.7257615  -2.4280005  -3.031649   -3.6410217\n",
      " -1.43943     2.3915415   0.65046895 -2.9804957  -2.393537    2.7496638\n",
      " -1.7277547  -1.5445338   1.425484    3.899846   -0.45544857 -0.2513931\n",
      " -2.7906308  -2.221003   -0.7869384   3.0203547  -5.232793   -1.4435196\n",
      " -1.8201585   1.3275278  -2.6433249  -1.8725969  -1.2028592  -2.0041046\n",
      "  3.3372538   1.574906   -1.0991822   1.1817961   0.3572868   0.9898574\n",
      "  2.7931545   0.84128606  0.9737661   3.9271123   0.4897969   2.4869678\n",
      "  2.8633306  -3.6199021  -2.788281   -0.19081464 -3.0413973  -0.20983066\n",
      " -0.01239765 -0.5607862  -1.5404161  -4.1139     -1.1719038   2.9063191\n",
      "  3.7459793   2.1559238   1.7326537  -3.3747113   0.32688543  1.3079925\n",
      " -0.5296338   2.2813284  -0.942777    1.0826846  -1.3244425  -1.1455024\n",
      " -5.0118413  -0.28281766  0.2755539   2.6141908  -0.8159493  -0.92871433\n",
      " -2.2665017   3.3122978   3.255988    3.0720968   1.9104587  -0.08615072\n",
      " -5.4808774  -0.6883885  -0.64752305 -1.0995799   1.6665629   1.3121902\n",
      "  0.702945    1.5234355  -0.2601561   6.203419    3.007993    3.4412348\n",
      "  1.6096346  -1.2767085   2.6448703   1.9011594  -3.3805957  -0.60530514\n",
      "  2.1841586  -0.5528068  -1.3399969  -0.61293787 -1.5480962  -1.2343386\n",
      "  0.70753247 -1.5060999  -2.0362098   1.2887077   0.90802085 -1.6674472\n",
      "  0.44307706  0.37947625  4.2506933  -2.652125    0.57817227  1.0428678\n",
      " -2.8271902   2.0801868   2.164013   -1.3588709  -0.6296222   1.9796314\n",
      " -0.0959169   1.94499     3.459605    0.23850782 -4.6708226   2.6802468 ]\n"
     ]
    }
   ],
   "source": [
    "import spacy\n",
    "import numpy as np\n",
    "\n",
    "text = \"I want to be a famous data scientist in less than 3 years\"\n",
    "\n",
    "# Apply a spacy model on the text\n",
    "\n",
    "nlp = spacy.load(\"en_core_web_lg\")\n",
    "doc = nlp(text)\n",
    "\n",
    "# Get all word vectors into a list\n",
    "\n",
    "word_vectors = [token.vector for token in doc if token.has_vector]\n",
    "\n",
    "# Compute and display the average vector of the text\n",
    "    \n",
    "average_vector = np.mean(word_vectors, axis=0)\n",
    "print(average_vector)"
   ]
  },
  {
   "cell_type": "markdown",
   "metadata": {},
   "source": [
    "### Word similarity\n",
    "\n",
    "We can also compute the similarity between two words by using distance measures (e.g. [cosine distance](https://docs.scipy.org/doc/scipy/reference/generated/scipy.spatial.distance.cosine.html), [euclidean distance](https://docs.scipy.org/doc/scipy/reference/generated/scipy.spatial.distance.euclidean.html)...). These measures will calculate the distance between word embeddings in the vector space.\n",
    "\n",
    "#### Let's practice!"
   ]
  },
  {
   "cell_type": "code",
   "execution_count": 25,
   "metadata": {},
   "outputs": [
    {
     "name": "stdout",
     "output_type": "stream",
     "text": [
      "0.5857753157615662\n",
      "50.87504196166992\n"
     ]
    }
   ],
   "source": [
    "# Import the required libraries\n",
    "\n",
    "import spacy\n",
    "import numpy as np\n",
    "from scipy.spatial import distance\n",
    "\n",
    "word1 = \"magical\"\n",
    "word2 = \"learning\"\n",
    "\n",
    "# Get the vector for both words through your favorite model\n",
    "\n",
    "nlp = spacy.load(\"en_core_web_lg\")\n",
    "doc1 = nlp(word1)\n",
    "doc2 = nlp(word2)\n",
    "\n",
    "word1_vector = [token.vector for token in doc1 if token.has_vector]\n",
    "word2_vector = [token.vector for token in doc2 if token.has_vector]\n",
    "\n",
    "word1_vector = np.mean(word1_vector, axis=0)\n",
    "word2_vector = np.mean(word2_vector, axis=0)\n",
    "\n",
    "# Compute the cosine and the euclidean distance between both words\n",
    "\n",
    "print(distance.cosine(word1_vector,word2_vector))\n",
    "print(distance.euclidean(word1_vector, word2_vector))\n",
    "\n",
    "# Try with other pairs of words for comparing the results"
   ]
  },
  {
   "cell_type": "markdown",
   "metadata": {},
   "source": [
    "## Stack embeddings\n",
    "\n",
    "The previous embeddings are good, but if you want something even better, you can \"stack\" these embeddings to create a bigger vector. It gives better results but will also require more computation power.\n",
    "\n",
    "[Here is a super clear and understandable guide](https://github.com/flairNLP/flair/blob/master/resources/docs/TUTORIAL_3_WORD_EMBEDDING.md) to get it done. (by the Flair's team)\n"
   ]
  },
  {
   "cell_type": "code",
   "execution_count": null,
   "metadata": {},
   "outputs": [],
   "source": []
  },
  {
   "cell_type": "markdown",
   "metadata": {},
   "source": [
    "## More resources\n",
    "* [Why do we use word embeddings in NLP?](https://towardsdatascience.com/why-do-we-use-embeddings-in-nlp-2f20e1b632d2)\n",
    "* [More details on what word embeddings are exactly?](https://www.analyticsvidhya.com/blog/2017/06/word-embeddings-count-word2veec/)"
   ]
  }
 ],
 "metadata": {
  "kernelspec": {
   "display_name": "Python 3.10.5 ('venv': venv)",
   "language": "python",
   "name": "python3"
  },
  "language_info": {
   "codemirror_mode": {
    "name": "ipython",
    "version": 3
   },
   "file_extension": ".py",
   "mimetype": "text/x-python",
   "name": "python",
   "nbconvert_exporter": "python",
   "pygments_lexer": "ipython3",
   "version": "3.12.0"
  },
  "vscode": {
   "interpreter": {
    "hash": "1ea57bea45b518cf48c15b34c69ddf5a63c6b38f630bac26c11b544b5b7ce7d8"
   }
  }
 },
 "nbformat": 4,
 "nbformat_minor": 2
}
