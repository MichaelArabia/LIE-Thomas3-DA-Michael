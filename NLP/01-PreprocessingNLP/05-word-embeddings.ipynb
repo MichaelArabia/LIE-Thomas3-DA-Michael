{
 "cells": [
  {
   "cell_type": "markdown",
   "metadata": {},
   "source": [
    "# Embedding\n",
    "\n",
    "## Why Embedding?\n",
    "As we know, machines can't handle text, it can only handle numbers. But how to convert a word to numbers?\n",
    "\n",
    "The most naive approach would be to take a list of all the words in your text and attribute a number to all of them. It will work but you can imagine that some problems will appear:\n",
    "* How do you handle unknown words? \n",
    "* If your text contains `doctor`, `nurse`, and `candy`. `doctor` and `nurse` have a strong similarity but `candy` doesn't. How can we make the machine understand that? With our naive technique, `doctor` could have the number `5` associated to it and nurse the number `98767`.\n",
    "\n",
    "Of course, a lot of people already spent some time with those problems. the solution that came out of it is \"Embedding\". \n",
    "\n",
    "## What is embeddings?\n",
    "\n",
    "An embedding is a **VECTOR** which represents a word or a document.\n",
    "\n",
    "A vector will be attributed to each token. Each vector will contain multiple dimensions (usually tens or hundreds of dimensions).\n",
    "\n",
    "```\n",
    "[...] associate with each word in the vocabulary a distributed word feature vector [...] The feature vector represents different aspects of the word: each word is associated with a point in a vector space. The number of features [...] is much smaller than the size of the vocabulary.\n",
    "```\n",
    "- [A Neural Probabilistic Language Model](https://www.jmlr.org/papers/volume3/bengio03a/bengio03a.pdf), 2003.\n",
    "\n",
    "Long story short, embeddings convert words into vectors in a way that allows the machine to understand the similarity betweens them.\n",
    "\n",
    "Each embedding library has it's own way of classifying words, it will regroup words into big categories. Each word will get a score for each category.\n",
    "\n",
    "To take a simple example the word `mother` could be classified like that:\n",
    "\n",
    "|        | female | family | human | animal|\n",
    "|--------|--------|---------|-------|-------|\n",
    "| mother | 0.9    | 0.9.    | 0.7   | 0.1   |\n",
    "\n",
    "**Explanations:** Mother has a strong similarity with female, family and human but it has a low similarity with animal.\n",
    "\n",
    "**Disclaimer:** Those numbers and categories are totally arbitrary and are only here to show an example.\n",
    "\n",
    "Here is another example with more complete datas:\n",
    "\n",
    "![embedding](https://miro.medium.com/max/2598/1*sAJdxEsDjsPMioHyzlN3_A.png)\n",
    "\n",
    "## Should I do it by hand?\n",
    "\n",
    "You could, but if some people already did the job for you and spent a lot of time to optimize it, why not use it?\n",
    "\n",
    "## What to use?\n",
    "\n",
    "There are a lot of libraries out there for embeddings. Which one is the best? Once again, *it depends*. The results will change depending on the text you are using, the information you want to extract, the model you use,...\n",
    "\n",
    "Choosing the \"best\" embedding model will be part of the hyper-optimization that you can do at the end of a project.\n",
    "\n",
    "If you want understand embeddings more in depth, [follow this link](http://jalammar.github.io/illustrated-word2vec/)\n",
    "\n",
    "Here are some of the best libraries of the moment:\n",
    "\n",
    "* [Flair](https://github.com/flairNLP/flair) (University of Berlin)\n",
    "* [fasttext](https://fasttext.cc/) (Facebook)\n",
    "* [GloVe](https://github.com/stanfordnlp/GloVe) (Stanford)\n",
    "\n",
    "And the oldest way doing it (but still good):\n",
    "* [Word2Vec](https://www.tensorflow.org/tutorials/text/word2vec)"
   ]
  },
  {
   "cell_type": "markdown",
   "metadata": {},
   "source": [
    "## Practice time!\n",
    "\n",
    "Enough reading, let's practice a bit. Can you use SpaCy to embed this sentence?\n",
    "Read the [spacy embedding documentation](https://spacy.io/usage/vectors-similarity)"
   ]
  },
  {
   "cell_type": "code",
   "execution_count": 17,
   "metadata": {},
   "outputs": [
    {
     "name": "stdout",
     "output_type": "stream",
     "text": [
      "I True 112.27491 False\n",
      "love True 58.563564 False\n",
      "learning True 52.643723 False\n"
     ]
    }
   ],
   "source": [
    "sentence = \"I love learning\"\n",
    "\n",
    "# Embed `sentence` with SpaCy\n",
    "\n",
    "import spacy\n",
    "\n",
    "nlp = spacy.load(\"en_core_web_lg\")\n",
    "tokens = nlp(sentence)\n",
    "\n",
    "for token in tokens:\n",
    "    print(token.text, token.has_vector, token.vector_norm, token.is_oov)"
   ]
  },
  {
   "cell_type": "markdown",
   "metadata": {},
   "source": [
    "What is the shape of each word's vector?"
   ]
  },
  {
   "cell_type": "code",
   "execution_count": 18,
   "metadata": {},
   "outputs": [
    {
     "name": "stdout",
     "output_type": "stream",
     "text": [
      "X\n",
      "xxxx\n",
      "xxxx\n"
     ]
    }
   ],
   "source": [
    "nlp = spacy.load(\"en_core_web_sm\")\n",
    "doc = nlp(sentence)\n",
    "\n",
    "for token in doc:\n",
    "    print(token.shape_)"
   ]
  },
  {
   "cell_type": "markdown",
   "metadata": {},
   "source": [
    "Try with Flair and Glove now (You will find how to do [here](https://github.com/flairNLP/flair/blob/master/resources/docs/TUTORIAL_3_WORD_EMBEDDING.md))"
   ]
  },
  {
   "cell_type": "code",
   "execution_count": 19,
   "metadata": {},
   "outputs": [],
   "source": [
    "sentence = \"I love learning\"\n",
    "\n",
    "# Embed with Flair"
   ]
  },
  {
   "cell_type": "code",
   "execution_count": 20,
   "metadata": {},
   "outputs": [
    {
     "name": "stdout",
     "output_type": "stream",
     "text": [
      "WARNING:tensorflow:From c:\\Users\\Admin\\miniconda3\\envs\\my-env\\Lib\\site-packages\\keras\\src\\losses.py:2976: The name tf.losses.sparse_softmax_cross_entropy is deprecated. Please use tf.compat.v1.losses.sparse_softmax_cross_entropy instead.\n",
      "\n",
      "2024-01-04 16:34:35,570 https://flair.informatik.hu-berlin.de/resources/embeddings/token/glove.gensim.vectors.npy not found in cache, downloading to C:\\Users\\Admin\\AppData\\Local\\Temp\\tmp6aqxeq98\n"
     ]
    },
    {
     "name": "stderr",
     "output_type": "stream",
     "text": [
      "100%|██████████| 153M/153M [00:21<00:00, 7.34MB/s] "
     ]
    },
    {
     "name": "stdout",
     "output_type": "stream",
     "text": [
      "2024-01-04 16:34:58,149 copying C:\\Users\\Admin\\AppData\\Local\\Temp\\tmp6aqxeq98 to cache at C:\\Users\\Admin\\.flair\\embeddings\\glove.gensim.vectors.npy\n"
     ]
    },
    {
     "name": "stderr",
     "output_type": "stream",
     "text": [
      "\n"
     ]
    },
    {
     "name": "stdout",
     "output_type": "stream",
     "text": [
      "2024-01-04 16:34:58,305 removing temp file C:\\Users\\Admin\\AppData\\Local\\Temp\\tmp6aqxeq98\n",
      "2024-01-04 16:34:59,323 https://flair.informatik.hu-berlin.de/resources/embeddings/token/glove.gensim not found in cache, downloading to C:\\Users\\Admin\\AppData\\Local\\Temp\\tmp3o1dmb_n\n"
     ]
    },
    {
     "name": "stderr",
     "output_type": "stream",
     "text": [
      "100%|██████████| 20.5M/20.5M [00:02<00:00, 7.41MB/s]"
     ]
    },
    {
     "name": "stdout",
     "output_type": "stream",
     "text": [
      "2024-01-04 16:35:03,009 copying C:\\Users\\Admin\\AppData\\Local\\Temp\\tmp3o1dmb_n to cache at C:\\Users\\Admin\\.flair\\embeddings\\glove.gensim\n",
      "2024-01-04 16:35:03,038 removing temp file C:\\Users\\Admin\\AppData\\Local\\Temp\\tmp3o1dmb_n\n"
     ]
    },
    {
     "name": "stderr",
     "output_type": "stream",
     "text": [
      "\n"
     ]
    },
    {
     "ename": "AttributeError",
     "evalue": "'WordEmbeddings' object has no attribute 'Embed'",
     "output_type": "error",
     "traceback": [
      "\u001b[1;31m---------------------------------------------------------------------------\u001b[0m",
      "\u001b[1;31mAttributeError\u001b[0m                            Traceback (most recent call last)",
      "Cell \u001b[1;32mIn[20], line 11\u001b[0m\n\u001b[0;32m      8\u001b[0m glove_embedding \u001b[38;5;241m=\u001b[39m WordEmbeddings(\u001b[38;5;124m'\u001b[39m\u001b[38;5;124mglove\u001b[39m\u001b[38;5;124m'\u001b[39m)\n\u001b[0;32m     10\u001b[0m sentence \u001b[38;5;241m=\u001b[39m Sentence(sentences)\n\u001b[1;32m---> 11\u001b[0m \u001b[43mglove_embedding\u001b[49m\u001b[38;5;241;43m.\u001b[39;49m\u001b[43mEmbed\u001b[49m(sentence)\n\u001b[0;32m     13\u001b[0m \u001b[38;5;28;01mfor\u001b[39;00m token \u001b[38;5;129;01min\u001b[39;00m sentence:\n\u001b[0;32m     14\u001b[0m     \u001b[38;5;28mprint\u001b[39m(token)\n",
      "File \u001b[1;32mc:\\Users\\Admin\\miniconda3\\envs\\my-env\\Lib\\site-packages\\torch\\nn\\modules\\module.py:1695\u001b[0m, in \u001b[0;36mModule.__getattr__\u001b[1;34m(self, name)\u001b[0m\n\u001b[0;32m   1693\u001b[0m     \u001b[38;5;28;01mif\u001b[39;00m name \u001b[38;5;129;01min\u001b[39;00m modules:\n\u001b[0;32m   1694\u001b[0m         \u001b[38;5;28;01mreturn\u001b[39;00m modules[name]\n\u001b[1;32m-> 1695\u001b[0m \u001b[38;5;28;01mraise\u001b[39;00m \u001b[38;5;167;01mAttributeError\u001b[39;00m(\u001b[38;5;124mf\u001b[39m\u001b[38;5;124m\"\u001b[39m\u001b[38;5;124m'\u001b[39m\u001b[38;5;132;01m{\u001b[39;00m\u001b[38;5;28mtype\u001b[39m(\u001b[38;5;28mself\u001b[39m)\u001b[38;5;241m.\u001b[39m\u001b[38;5;18m__name__\u001b[39m\u001b[38;5;132;01m}\u001b[39;00m\u001b[38;5;124m'\u001b[39m\u001b[38;5;124m object has no attribute \u001b[39m\u001b[38;5;124m'\u001b[39m\u001b[38;5;132;01m{\u001b[39;00mname\u001b[38;5;132;01m}\u001b[39;00m\u001b[38;5;124m'\u001b[39m\u001b[38;5;124m\"\u001b[39m)\n",
      "\u001b[1;31mAttributeError\u001b[0m: 'WordEmbeddings' object has no attribute 'Embed'"
     ]
    }
   ],
   "source": [
    "from flair.embeddings import WordEmbeddings\n",
    "from flair.data import Sentence\n",
    "\n",
    "sentences = \"I love learning\"\n",
    "\n",
    "# Embed with Glove\n",
    "\n",
    "glove_embedding = WordEmbeddings('glove')\n",
    "\n",
    "sentence = Sentence(sentences)\n",
    "glove_embedding.embed(sentence)\n",
    "\n",
    "for token in sentence:\n",
    "    print(token)\n",
    "    print(token.embedding)"
   ]
  },
  {
   "cell_type": "markdown",
   "metadata": {},
   "source": [
    "What is the shape of each word's vector?"
   ]
  },
  {
   "cell_type": "code",
   "execution_count": null,
   "metadata": {},
   "outputs": [],
   "source": []
  },
  {
   "cell_type": "markdown",
   "metadata": {},
   "source": [
    "Your text is now embedded, your model will be able to understand it, yeah!\n",
    "\n",
    "## Maths on text\n",
    "\n",
    "Since the words are embedded into vectors we can now apply mathematical methods on them.\n",
    "\n",
    "### Average vector\n",
    "\n",
    "For example we could build the average vector for a text by using NumPy! This is a straightforward way to build one single representation for a text."
   ]
  },
  {
   "cell_type": "code",
   "execution_count": null,
   "metadata": {},
   "outputs": [],
   "source": [
    "text = \"I want to be a famous data scientist\"\n",
    "\n",
    "# Apply a spacy model on the text\n",
    "\n",
    "# Get all word vectors into a list\n",
    "\n",
    "# Compute and display the average vector of the text"
   ]
  },
  {
   "cell_type": "markdown",
   "metadata": {},
   "source": [
    "### Word similarity\n",
    "\n",
    "We can also compute the similarity between two words by using distance measures (e.g. [cosine distance](https://docs.scipy.org/doc/scipy/reference/generated/scipy.spatial.distance.cosine.html), [euclidean distance](https://docs.scipy.org/doc/scipy/reference/generated/scipy.spatial.distance.euclidean.html)...). These measures will calculate the distance between word embeddings in the vector space.\n",
    "\n",
    "#### Let's practice!"
   ]
  },
  {
   "cell_type": "code",
   "execution_count": null,
   "metadata": {},
   "outputs": [],
   "source": [
    "# Import the required libraries\n",
    "\n",
    "word1 = \"computer\"\n",
    "word2 = \"keyboard\"\n",
    "\n",
    "# Get the vector for both words through your favorite model\n",
    "\n",
    "# Compute the cosine and the euclidean distance between both words\n",
    "\n",
    "# Try with other pairs of words for comparing the results"
   ]
  },
  {
   "cell_type": "markdown",
   "metadata": {},
   "source": [
    "## Stack embeddings\n",
    "\n",
    "The previous embeddings are good, but if you want something even better, you can \"stack\" these embeddings to create a bigger vector. It gives better results but will also require more computation power.\n",
    "\n",
    "[Here is a super clear and understandable guide](https://github.com/flairNLP/flair/blob/master/resources/docs/TUTORIAL_3_WORD_EMBEDDING.md) to get it done. (by the Flair's team)\n"
   ]
  },
  {
   "cell_type": "code",
   "execution_count": null,
   "metadata": {},
   "outputs": [],
   "source": []
  },
  {
   "cell_type": "markdown",
   "metadata": {},
   "source": [
    "## More resources\n",
    "* [Why do we use word embeddings in NLP?](https://towardsdatascience.com/why-do-we-use-embeddings-in-nlp-2f20e1b632d2)\n",
    "* [More details on what word embeddings are exactly?](https://www.analyticsvidhya.com/blog/2017/06/word-embeddings-count-word2veec/)"
   ]
  }
 ],
 "metadata": {
  "kernelspec": {
   "display_name": "Python 3.10.5 ('venv': venv)",
   "language": "python",
   "name": "python3"
  },
  "language_info": {
   "codemirror_mode": {
    "name": "ipython",
    "version": 3
   },
   "file_extension": ".py",
   "mimetype": "text/x-python",
   "name": "python",
   "nbconvert_exporter": "python",
   "pygments_lexer": "ipython3",
   "version": "3.11.5"
  },
  "vscode": {
   "interpreter": {
    "hash": "1ea57bea45b518cf48c15b34c69ddf5a63c6b38f630bac26c11b544b5b7ce7d8"
   }
  }
 },
 "nbformat": 4,
 "nbformat_minor": 2
}
